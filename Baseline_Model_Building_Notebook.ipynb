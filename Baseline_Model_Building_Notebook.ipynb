{
  "nbformat": 4,
  "nbformat_minor": 0,
  "metadata": {
    "colab": {
      "provenance": [],
      "collapsed_sections": [
        "ajJW3ZT6JLDm",
        "gk2tlGH0JpcT",
        "HT8rzGV2IQEW",
        "g0SIAOcSIsGa",
        "dNfBbLzZI-mb"
      ],
      "authorship_tag": "ABX9TyPaI0KpFVoKLKfx+B27Ad2a",
      "include_colab_link": true
    },
    "kernelspec": {
      "name": "python3",
      "display_name": "Python 3"
    },
    "language_info": {
      "name": "python"
    }
  },
  "cells": [
    {
      "cell_type": "markdown",
      "metadata": {
        "id": "view-in-github",
        "colab_type": "text"
      },
      "source": [
        "<a href=\"https://colab.research.google.com/github/axpat/Retail-Sales-Prediction/blob/main/Baseline_Model_Building_Notebook.ipynb\" target=\"_parent\"><img src=\"https://colab.research.google.com/assets/colab-badge.svg\" alt=\"Open In Colab\"/></a>"
      ]
    },
    {
      "cell_type": "code",
      "execution_count": 1,
      "metadata": {
        "id": "79VPOOrn1liw"
      },
      "outputs": [],
      "source": [
        "#importing necessary libraries\n",
        "import numpy as np\n",
        "import pandas as pd\n",
        "import matplotlib.pyplot as plt\n",
        "import seaborn as sns\n",
        "%matplotlib inline\n",
        "from datetime import datetime\n",
        "\n",
        "from sklearn.preprocessing import MinMaxScaler\n",
        "from sklearn.model_selection import train_test_split\n",
        "from sklearn.linear_model import LinearRegression\n",
        "from sklearn.metrics import r2_score\n",
        "from sklearn.metrics import mean_squared_error\n",
        "from sklearn.preprocessing import OneHotEncoder\n",
        "import math\n",
        "\n",
        "import warnings    \n",
        "warnings.filterwarnings('ignore')"
      ]
    },
    {
      "cell_type": "code",
      "source": [
        "from google.colab import drive\n",
        "drive.mount('/content/drive')"
      ],
      "metadata": {
        "colab": {
          "base_uri": "https://localhost:8080/"
        },
        "id": "m6q6G5tw1pQr",
        "outputId": "79f87c15-6b1a-4f48-b423-590151e889c9"
      },
      "execution_count": 2,
      "outputs": [
        {
          "output_type": "stream",
          "name": "stdout",
          "text": [
            "Drive already mounted at /content/drive; to attempt to forcibly remount, call drive.mount(\"/content/drive\", force_remount=True).\n"
          ]
        }
      ]
    },
    {
      "cell_type": "code",
      "source": [
        "#Setting up the Folder Path where the files are  kept\n",
        "file_path = '/content/drive/MyDrive/Colab Notebooks/AlmaBetter /Capstone Project/Supervised-Learning-Regression/Cleaned_data/'\n",
        "train_df = pd.read_csv(file_path+'train.csv', parse_dates=['Date'])\n",
        "test_df = pd.read_csv(file_path+'test.csv', parse_dates=['Date'])"
      ],
      "metadata": {
        "id": "bvWKh4fd1pq1"
      },
      "execution_count": 3,
      "outputs": []
    },
    {
      "cell_type": "code",
      "source": [
        "#setting date and store as index\n",
        "train_df.set_index(['Date','Store'], inplace=True)\n",
        "train_df.sort_values(by=['Date','Store'], inplace=True)\n",
        "\n",
        "test_df.set_index(['Date','Store'], inplace=True)\n",
        "test_df.sort_values(by=['Date','Store'], inplace=True)"
      ],
      "metadata": {
        "id": "_5A_W1Xl28Ko"
      },
      "execution_count": 4,
      "outputs": []
    },
    {
      "cell_type": "code",
      "source": [
        "train_df.head(1)"
      ],
      "metadata": {
        "colab": {
          "base_uri": "https://localhost:8080/",
          "height": 112
        },
        "id": "_eC3wc8D28M1",
        "outputId": "24424ee2-ac32-42a2-d064-e53c1bc5cc70"
      },
      "execution_count": 5,
      "outputs": [
        {
          "output_type": "execute_result",
          "data": {
            "text/plain": [
              "                  DayOfWeek    Sales  Customers  Promo  StateHoliday  \\\n",
              "Date       Store                                                       \n",
              "2013-01-01 85             2  8.34759        619      0             1   \n",
              "\n",
              "                  SchoolHoliday StoreType Assortment  CompetitionDistance  \\\n",
              "Date       Store                                                            \n",
              "2013-01-01 85                 1         b          a               1870.0   \n",
              "\n",
              "                  Promo2  Year  Month  WeekOfYear  DayOfYear  CompetitionOpen  \\\n",
              "Date       Store                                                                \n",
              "2013-01-01 85          0  2013      1           1          1             15.0   \n",
              "\n",
              "                  Promo2Open  Promo2running  \n",
              "Date       Store                             \n",
              "2013-01-01 85            0.0              0  "
            ],
            "text/html": [
              "\n",
              "  <div id=\"df-7361c00e-8f78-42bf-baca-60411727acfa\">\n",
              "    <div class=\"colab-df-container\">\n",
              "      <div>\n",
              "<style scoped>\n",
              "    .dataframe tbody tr th:only-of-type {\n",
              "        vertical-align: middle;\n",
              "    }\n",
              "\n",
              "    .dataframe tbody tr th {\n",
              "        vertical-align: top;\n",
              "    }\n",
              "\n",
              "    .dataframe thead th {\n",
              "        text-align: right;\n",
              "    }\n",
              "</style>\n",
              "<table border=\"1\" class=\"dataframe\">\n",
              "  <thead>\n",
              "    <tr style=\"text-align: right;\">\n",
              "      <th></th>\n",
              "      <th></th>\n",
              "      <th>DayOfWeek</th>\n",
              "      <th>Sales</th>\n",
              "      <th>Customers</th>\n",
              "      <th>Promo</th>\n",
              "      <th>StateHoliday</th>\n",
              "      <th>SchoolHoliday</th>\n",
              "      <th>StoreType</th>\n",
              "      <th>Assortment</th>\n",
              "      <th>CompetitionDistance</th>\n",
              "      <th>Promo2</th>\n",
              "      <th>Year</th>\n",
              "      <th>Month</th>\n",
              "      <th>WeekOfYear</th>\n",
              "      <th>DayOfYear</th>\n",
              "      <th>CompetitionOpen</th>\n",
              "      <th>Promo2Open</th>\n",
              "      <th>Promo2running</th>\n",
              "    </tr>\n",
              "    <tr>\n",
              "      <th>Date</th>\n",
              "      <th>Store</th>\n",
              "      <th></th>\n",
              "      <th></th>\n",
              "      <th></th>\n",
              "      <th></th>\n",
              "      <th></th>\n",
              "      <th></th>\n",
              "      <th></th>\n",
              "      <th></th>\n",
              "      <th></th>\n",
              "      <th></th>\n",
              "      <th></th>\n",
              "      <th></th>\n",
              "      <th></th>\n",
              "      <th></th>\n",
              "      <th></th>\n",
              "      <th></th>\n",
              "      <th></th>\n",
              "    </tr>\n",
              "  </thead>\n",
              "  <tbody>\n",
              "    <tr>\n",
              "      <th>2013-01-01</th>\n",
              "      <th>85</th>\n",
              "      <td>2</td>\n",
              "      <td>8.34759</td>\n",
              "      <td>619</td>\n",
              "      <td>0</td>\n",
              "      <td>1</td>\n",
              "      <td>1</td>\n",
              "      <td>b</td>\n",
              "      <td>a</td>\n",
              "      <td>1870.0</td>\n",
              "      <td>0</td>\n",
              "      <td>2013</td>\n",
              "      <td>1</td>\n",
              "      <td>1</td>\n",
              "      <td>1</td>\n",
              "      <td>15.0</td>\n",
              "      <td>0.0</td>\n",
              "      <td>0</td>\n",
              "    </tr>\n",
              "  </tbody>\n",
              "</table>\n",
              "</div>\n",
              "      <button class=\"colab-df-convert\" onclick=\"convertToInteractive('df-7361c00e-8f78-42bf-baca-60411727acfa')\"\n",
              "              title=\"Convert this dataframe to an interactive table.\"\n",
              "              style=\"display:none;\">\n",
              "        \n",
              "  <svg xmlns=\"http://www.w3.org/2000/svg\" height=\"24px\"viewBox=\"0 0 24 24\"\n",
              "       width=\"24px\">\n",
              "    <path d=\"M0 0h24v24H0V0z\" fill=\"none\"/>\n",
              "    <path d=\"M18.56 5.44l.94 2.06.94-2.06 2.06-.94-2.06-.94-.94-2.06-.94 2.06-2.06.94zm-11 1L8.5 8.5l.94-2.06 2.06-.94-2.06-.94L8.5 2.5l-.94 2.06-2.06.94zm10 10l.94 2.06.94-2.06 2.06-.94-2.06-.94-.94-2.06-.94 2.06-2.06.94z\"/><path d=\"M17.41 7.96l-1.37-1.37c-.4-.4-.92-.59-1.43-.59-.52 0-1.04.2-1.43.59L10.3 9.45l-7.72 7.72c-.78.78-.78 2.05 0 2.83L4 21.41c.39.39.9.59 1.41.59.51 0 1.02-.2 1.41-.59l7.78-7.78 2.81-2.81c.8-.78.8-2.07 0-2.86zM5.41 20L4 18.59l7.72-7.72 1.47 1.35L5.41 20z\"/>\n",
              "  </svg>\n",
              "      </button>\n",
              "      \n",
              "  <style>\n",
              "    .colab-df-container {\n",
              "      display:flex;\n",
              "      flex-wrap:wrap;\n",
              "      gap: 12px;\n",
              "    }\n",
              "\n",
              "    .colab-df-convert {\n",
              "      background-color: #E8F0FE;\n",
              "      border: none;\n",
              "      border-radius: 50%;\n",
              "      cursor: pointer;\n",
              "      display: none;\n",
              "      fill: #1967D2;\n",
              "      height: 32px;\n",
              "      padding: 0 0 0 0;\n",
              "      width: 32px;\n",
              "    }\n",
              "\n",
              "    .colab-df-convert:hover {\n",
              "      background-color: #E2EBFA;\n",
              "      box-shadow: 0px 1px 2px rgba(60, 64, 67, 0.3), 0px 1px 3px 1px rgba(60, 64, 67, 0.15);\n",
              "      fill: #174EA6;\n",
              "    }\n",
              "\n",
              "    [theme=dark] .colab-df-convert {\n",
              "      background-color: #3B4455;\n",
              "      fill: #D2E3FC;\n",
              "    }\n",
              "\n",
              "    [theme=dark] .colab-df-convert:hover {\n",
              "      background-color: #434B5C;\n",
              "      box-shadow: 0px 1px 3px 1px rgba(0, 0, 0, 0.15);\n",
              "      filter: drop-shadow(0px 1px 2px rgba(0, 0, 0, 0.3));\n",
              "      fill: #FFFFFF;\n",
              "    }\n",
              "  </style>\n",
              "\n",
              "      <script>\n",
              "        const buttonEl =\n",
              "          document.querySelector('#df-7361c00e-8f78-42bf-baca-60411727acfa button.colab-df-convert');\n",
              "        buttonEl.style.display =\n",
              "          google.colab.kernel.accessAllowed ? 'block' : 'none';\n",
              "\n",
              "        async function convertToInteractive(key) {\n",
              "          const element = document.querySelector('#df-7361c00e-8f78-42bf-baca-60411727acfa');\n",
              "          const dataTable =\n",
              "            await google.colab.kernel.invokeFunction('convertToInteractive',\n",
              "                                                     [key], {});\n",
              "          if (!dataTable) return;\n",
              "\n",
              "          const docLinkHtml = 'Like what you see? Visit the ' +\n",
              "            '<a target=\"_blank\" href=https://colab.research.google.com/notebooks/data_table.ipynb>data table notebook</a>'\n",
              "            + ' to learn more about interactive tables.';\n",
              "          element.innerHTML = '';\n",
              "          dataTable['output_type'] = 'display_data';\n",
              "          await google.colab.output.renderOutput(dataTable, element);\n",
              "          const docLink = document.createElement('div');\n",
              "          docLink.innerHTML = docLinkHtml;\n",
              "          element.appendChild(docLink);\n",
              "        }\n",
              "      </script>\n",
              "    </div>\n",
              "  </div>\n",
              "  "
            ]
          },
          "metadata": {},
          "execution_count": 5
        }
      ]
    },
    {
      "cell_type": "code",
      "source": [
        "train_df.columns"
      ],
      "metadata": {
        "colab": {
          "base_uri": "https://localhost:8080/"
        },
        "id": "krXAO00g28PI",
        "outputId": "328810b7-93f5-456b-80f1-95278c4e810f"
      },
      "execution_count": 6,
      "outputs": [
        {
          "output_type": "execute_result",
          "data": {
            "text/plain": [
              "Index(['DayOfWeek', 'Sales', 'Customers', 'Promo', 'StateHoliday',\n",
              "       'SchoolHoliday', 'StoreType', 'Assortment', 'CompetitionDistance',\n",
              "       'Promo2', 'Year', 'Month', 'WeekOfYear', 'DayOfYear', 'CompetitionOpen',\n",
              "       'Promo2Open', 'Promo2running'],\n",
              "      dtype='object')"
            ]
          },
          "metadata": {},
          "execution_count": 6
        }
      ]
    },
    {
      "cell_type": "code",
      "source": [
        "test_df.head(1)"
      ],
      "metadata": {
        "colab": {
          "base_uri": "https://localhost:8080/",
          "height": 112
        },
        "id": "lC7GW3CM28Re",
        "outputId": "dca02fd3-9878-4c7b-caa5-791427e67b6a"
      },
      "execution_count": 7,
      "outputs": [
        {
          "output_type": "execute_result",
          "data": {
            "text/plain": [
              "                  DayOfWeek     Sales  Customers  Promo  StateHoliday  \\\n",
              "Date       Store                                                        \n",
              "2015-06-15 1              1  8.615771        586      1             0   \n",
              "\n",
              "                  SchoolHoliday StoreType Assortment  CompetitionDistance  \\\n",
              "Date       Store                                                            \n",
              "2015-06-15 1                  0         c          a               1270.0   \n",
              "\n",
              "                  Promo2  Year  Month  WeekOfYear  DayOfYear  CompetitionOpen  \\\n",
              "Date       Store                                                                \n",
              "2015-06-15 1           0  2015      6          25        166             81.0   \n",
              "\n",
              "                  Promo2Open  Promo2running  \n",
              "Date       Store                             \n",
              "2015-06-15 1             0.0              0  "
            ],
            "text/html": [
              "\n",
              "  <div id=\"df-80530d52-b588-454f-b45e-e978b75d916b\">\n",
              "    <div class=\"colab-df-container\">\n",
              "      <div>\n",
              "<style scoped>\n",
              "    .dataframe tbody tr th:only-of-type {\n",
              "        vertical-align: middle;\n",
              "    }\n",
              "\n",
              "    .dataframe tbody tr th {\n",
              "        vertical-align: top;\n",
              "    }\n",
              "\n",
              "    .dataframe thead th {\n",
              "        text-align: right;\n",
              "    }\n",
              "</style>\n",
              "<table border=\"1\" class=\"dataframe\">\n",
              "  <thead>\n",
              "    <tr style=\"text-align: right;\">\n",
              "      <th></th>\n",
              "      <th></th>\n",
              "      <th>DayOfWeek</th>\n",
              "      <th>Sales</th>\n",
              "      <th>Customers</th>\n",
              "      <th>Promo</th>\n",
              "      <th>StateHoliday</th>\n",
              "      <th>SchoolHoliday</th>\n",
              "      <th>StoreType</th>\n",
              "      <th>Assortment</th>\n",
              "      <th>CompetitionDistance</th>\n",
              "      <th>Promo2</th>\n",
              "      <th>Year</th>\n",
              "      <th>Month</th>\n",
              "      <th>WeekOfYear</th>\n",
              "      <th>DayOfYear</th>\n",
              "      <th>CompetitionOpen</th>\n",
              "      <th>Promo2Open</th>\n",
              "      <th>Promo2running</th>\n",
              "    </tr>\n",
              "    <tr>\n",
              "      <th>Date</th>\n",
              "      <th>Store</th>\n",
              "      <th></th>\n",
              "      <th></th>\n",
              "      <th></th>\n",
              "      <th></th>\n",
              "      <th></th>\n",
              "      <th></th>\n",
              "      <th></th>\n",
              "      <th></th>\n",
              "      <th></th>\n",
              "      <th></th>\n",
              "      <th></th>\n",
              "      <th></th>\n",
              "      <th></th>\n",
              "      <th></th>\n",
              "      <th></th>\n",
              "      <th></th>\n",
              "      <th></th>\n",
              "    </tr>\n",
              "  </thead>\n",
              "  <tbody>\n",
              "    <tr>\n",
              "      <th>2015-06-15</th>\n",
              "      <th>1</th>\n",
              "      <td>1</td>\n",
              "      <td>8.615771</td>\n",
              "      <td>586</td>\n",
              "      <td>1</td>\n",
              "      <td>0</td>\n",
              "      <td>0</td>\n",
              "      <td>c</td>\n",
              "      <td>a</td>\n",
              "      <td>1270.0</td>\n",
              "      <td>0</td>\n",
              "      <td>2015</td>\n",
              "      <td>6</td>\n",
              "      <td>25</td>\n",
              "      <td>166</td>\n",
              "      <td>81.0</td>\n",
              "      <td>0.0</td>\n",
              "      <td>0</td>\n",
              "    </tr>\n",
              "  </tbody>\n",
              "</table>\n",
              "</div>\n",
              "      <button class=\"colab-df-convert\" onclick=\"convertToInteractive('df-80530d52-b588-454f-b45e-e978b75d916b')\"\n",
              "              title=\"Convert this dataframe to an interactive table.\"\n",
              "              style=\"display:none;\">\n",
              "        \n",
              "  <svg xmlns=\"http://www.w3.org/2000/svg\" height=\"24px\"viewBox=\"0 0 24 24\"\n",
              "       width=\"24px\">\n",
              "    <path d=\"M0 0h24v24H0V0z\" fill=\"none\"/>\n",
              "    <path d=\"M18.56 5.44l.94 2.06.94-2.06 2.06-.94-2.06-.94-.94-2.06-.94 2.06-2.06.94zm-11 1L8.5 8.5l.94-2.06 2.06-.94-2.06-.94L8.5 2.5l-.94 2.06-2.06.94zm10 10l.94 2.06.94-2.06 2.06-.94-2.06-.94-.94-2.06-.94 2.06-2.06.94z\"/><path d=\"M17.41 7.96l-1.37-1.37c-.4-.4-.92-.59-1.43-.59-.52 0-1.04.2-1.43.59L10.3 9.45l-7.72 7.72c-.78.78-.78 2.05 0 2.83L4 21.41c.39.39.9.59 1.41.59.51 0 1.02-.2 1.41-.59l7.78-7.78 2.81-2.81c.8-.78.8-2.07 0-2.86zM5.41 20L4 18.59l7.72-7.72 1.47 1.35L5.41 20z\"/>\n",
              "  </svg>\n",
              "      </button>\n",
              "      \n",
              "  <style>\n",
              "    .colab-df-container {\n",
              "      display:flex;\n",
              "      flex-wrap:wrap;\n",
              "      gap: 12px;\n",
              "    }\n",
              "\n",
              "    .colab-df-convert {\n",
              "      background-color: #E8F0FE;\n",
              "      border: none;\n",
              "      border-radius: 50%;\n",
              "      cursor: pointer;\n",
              "      display: none;\n",
              "      fill: #1967D2;\n",
              "      height: 32px;\n",
              "      padding: 0 0 0 0;\n",
              "      width: 32px;\n",
              "    }\n",
              "\n",
              "    .colab-df-convert:hover {\n",
              "      background-color: #E2EBFA;\n",
              "      box-shadow: 0px 1px 2px rgba(60, 64, 67, 0.3), 0px 1px 3px 1px rgba(60, 64, 67, 0.15);\n",
              "      fill: #174EA6;\n",
              "    }\n",
              "\n",
              "    [theme=dark] .colab-df-convert {\n",
              "      background-color: #3B4455;\n",
              "      fill: #D2E3FC;\n",
              "    }\n",
              "\n",
              "    [theme=dark] .colab-df-convert:hover {\n",
              "      background-color: #434B5C;\n",
              "      box-shadow: 0px 1px 3px 1px rgba(0, 0, 0, 0.15);\n",
              "      filter: drop-shadow(0px 1px 2px rgba(0, 0, 0, 0.3));\n",
              "      fill: #FFFFFF;\n",
              "    }\n",
              "  </style>\n",
              "\n",
              "      <script>\n",
              "        const buttonEl =\n",
              "          document.querySelector('#df-80530d52-b588-454f-b45e-e978b75d916b button.colab-df-convert');\n",
              "        buttonEl.style.display =\n",
              "          google.colab.kernel.accessAllowed ? 'block' : 'none';\n",
              "\n",
              "        async function convertToInteractive(key) {\n",
              "          const element = document.querySelector('#df-80530d52-b588-454f-b45e-e978b75d916b');\n",
              "          const dataTable =\n",
              "            await google.colab.kernel.invokeFunction('convertToInteractive',\n",
              "                                                     [key], {});\n",
              "          if (!dataTable) return;\n",
              "\n",
              "          const docLinkHtml = 'Like what you see? Visit the ' +\n",
              "            '<a target=\"_blank\" href=https://colab.research.google.com/notebooks/data_table.ipynb>data table notebook</a>'\n",
              "            + ' to learn more about interactive tables.';\n",
              "          element.innerHTML = '';\n",
              "          dataTable['output_type'] = 'display_data';\n",
              "          await google.colab.output.renderOutput(dataTable, element);\n",
              "          const docLink = document.createElement('div');\n",
              "          docLink.innerHTML = docLinkHtml;\n",
              "          element.appendChild(docLink);\n",
              "        }\n",
              "      </script>\n",
              "    </div>\n",
              "  </div>\n",
              "  "
            ]
          },
          "metadata": {},
          "execution_count": 7
        }
      ]
    },
    {
      "cell_type": "markdown",
      "source": [
        "# Test-Train-Split"
      ],
      "metadata": {
        "id": "VIdvEixU3Cj9"
      }
    },
    {
      "cell_type": "code",
      "source": [
        "# dividing train df into train_x and train_y \n",
        "X_train = train_df.drop('Sales', axis=1)\n",
        "y_train = train_df[['Sales']]\n",
        "\n",
        "#dividing test df into test_x and test_y\n",
        "X_test = test_df.drop(\"Sales\", axis=1)\n",
        "y_test = test_df[['Sales']]"
      ],
      "metadata": {
        "id": "0neaW688I08g"
      },
      "execution_count": 8,
      "outputs": []
    },
    {
      "cell_type": "markdown",
      "source": [
        "One Hot Encoding of categorical columns to convert them into numerical columns"
      ],
      "metadata": {
        "id": "OKsn1GEtI3Gu"
      }
    },
    {
      "cell_type": "code",
      "source": [
        "# making a list of categorical columns\n",
        "Categorical_columns = ['DayOfWeek','StoreType','Assortment']"
      ],
      "metadata": {
        "id": "2OsAtKNsI1Br"
      },
      "execution_count": 9,
      "outputs": []
    },
    {
      "cell_type": "code",
      "source": [
        "# assigning one hot encoder\n",
        "enc = OneHotEncoder(sparse=False)"
      ],
      "metadata": {
        "id": "xDKTwcmJI49W"
      },
      "execution_count": 10,
      "outputs": []
    },
    {
      "cell_type": "code",
      "source": [
        "enc.fit(X_train[Categorical_columns])"
      ],
      "metadata": {
        "colab": {
          "base_uri": "https://localhost:8080/"
        },
        "id": "dRR7uuEGI6Hb",
        "outputId": "a993bbba-7375-462a-ae09-71f6570f3838"
      },
      "execution_count": 11,
      "outputs": [
        {
          "output_type": "execute_result",
          "data": {
            "text/plain": [
              "OneHotEncoder(sparse=False)"
            ]
          },
          "metadata": {},
          "execution_count": 11
        }
      ]
    },
    {
      "cell_type": "code",
      "source": [
        "# getting a new list of encoded columns from Categorical_columns in train data\n",
        "encoded_cols = enc.get_feature_names(Categorical_columns).tolist()"
      ],
      "metadata": {
        "id": "qmRwbMhjI693"
      },
      "execution_count": 12,
      "outputs": []
    },
    {
      "cell_type": "code",
      "source": [
        "encoded_cols"
      ],
      "metadata": {
        "colab": {
          "base_uri": "https://localhost:8080/"
        },
        "id": "9INT00LAI7AL",
        "outputId": "c10ae466-0c24-4d1b-9861-0f880a15b5e1"
      },
      "execution_count": 13,
      "outputs": [
        {
          "output_type": "execute_result",
          "data": {
            "text/plain": [
              "['DayOfWeek_1',\n",
              " 'DayOfWeek_2',\n",
              " 'DayOfWeek_3',\n",
              " 'DayOfWeek_4',\n",
              " 'DayOfWeek_5',\n",
              " 'DayOfWeek_6',\n",
              " 'DayOfWeek_7',\n",
              " 'StoreType_a',\n",
              " 'StoreType_b',\n",
              " 'StoreType_c',\n",
              " 'StoreType_d',\n",
              " 'Assortment_a',\n",
              " 'Assortment_b',\n",
              " 'Assortment_c']"
            ]
          },
          "metadata": {},
          "execution_count": 13
        }
      ]
    },
    {
      "cell_type": "code",
      "source": [
        "\n",
        "#performing transformation on training data and creating new features for encoded columns\n",
        "X_train[encoded_cols] = enc.transform(X_train[Categorical_columns])"
      ],
      "metadata": {
        "id": "s6EtC240I7FE"
      },
      "execution_count": 14,
      "outputs": []
    },
    {
      "cell_type": "code",
      "source": [
        "#dropping old categorical columns from training data\n",
        "X_train.drop(Categorical_columns, axis=1, inplace=True)"
      ],
      "metadata": {
        "id": "pW5EIrs_I7H-"
      },
      "execution_count": 15,
      "outputs": []
    },
    {
      "cell_type": "code",
      "source": [
        "#performing transformation on testing data and creating new features for encoded columns\n",
        "X_test[encoded_cols] = enc.transform(X_test[Categorical_columns])\n"
      ],
      "metadata": {
        "id": "QyqXkoGhJDQM"
      },
      "execution_count": 16,
      "outputs": []
    },
    {
      "cell_type": "code",
      "source": [
        "#dropping old categorical columns from testing data\n",
        "X_test.drop(Categorical_columns, axis=1, inplace=True)"
      ],
      "metadata": {
        "id": "YaY_ZEXSJDSe"
      },
      "execution_count": 17,
      "outputs": []
    },
    {
      "cell_type": "code",
      "source": [
        "X_train.columns"
      ],
      "metadata": {
        "colab": {
          "base_uri": "https://localhost:8080/"
        },
        "id": "-ttORnVFJDUh",
        "outputId": "86ac789f-35a4-4d8e-c09f-7bb753738add"
      },
      "execution_count": 18,
      "outputs": [
        {
          "output_type": "execute_result",
          "data": {
            "text/plain": [
              "Index(['Customers', 'Promo', 'StateHoliday', 'SchoolHoliday',\n",
              "       'CompetitionDistance', 'Promo2', 'Year', 'Month', 'WeekOfYear',\n",
              "       'DayOfYear', 'CompetitionOpen', 'Promo2Open', 'Promo2running',\n",
              "       'DayOfWeek_1', 'DayOfWeek_2', 'DayOfWeek_3', 'DayOfWeek_4',\n",
              "       'DayOfWeek_5', 'DayOfWeek_6', 'DayOfWeek_7', 'StoreType_a',\n",
              "       'StoreType_b', 'StoreType_c', 'StoreType_d', 'Assortment_a',\n",
              "       'Assortment_b', 'Assortment_c'],\n",
              "      dtype='object')"
            ]
          },
          "metadata": {},
          "execution_count": 18
        }
      ]
    },
    {
      "cell_type": "markdown",
      "source": [
        "\n",
        "## Time for transformations in our data"
      ],
      "metadata": {
        "id": "ajJW3ZT6JLDm"
      }
    },
    {
      "cell_type": "code",
      "source": [
        "from sklearn.preprocessing import StandardScaler\n",
        "scaler = StandardScaler()\n",
        "\n",
        "X_train[list(X_train.columns)] = scaler.fit_transform(X_train[list(X_train.columns)])\n",
        "X_test[list(X_test.columns)] = scaler.fit_transform(X_test[list(X_test.columns)])\n",
        "\n",
        "scaler = StandardScaler()\n",
        "y_train[list(y_train.columns)] = scaler.fit_transform(y_train[list(y_train.columns)])\n",
        "y_test[list(y_test.columns)] = scaler.transform(y_test[list(y_train.columns)])"
      ],
      "metadata": {
        "id": "RKZxymQ1Vn_u"
      },
      "execution_count": 19,
      "outputs": []
    },
    {
      "cell_type": "markdown",
      "source": [
        "## Model Selection"
      ],
      "metadata": {
        "id": "gk2tlGH0JpcT"
      }
    },
    {
      "cell_type": "markdown",
      "source": [
        "Going through the assumptions of linear models, we can confidently conclude that we can go for them. Given Our Data has a lot of genuine multicollinearity and also some columns have way too many outliers than others.\n",
        "\n",
        "Linear models like Linear regression and Logistic ones can't be used for our purpose, so we will move ahead with decision trees and randomforests, but, before that just to check."
      ],
      "metadata": {
        "id": "GbHH5OyRJruT"
      }
    },
    {
      "cell_type": "code",
      "source": [
        "lrreg = LinearRegression()"
      ],
      "metadata": {
        "id": "yi7KWP-uJDY2"
      },
      "execution_count": 20,
      "outputs": []
    },
    {
      "cell_type": "code",
      "source": [
        "lrreg.fit(X_train,y_train)"
      ],
      "metadata": {
        "colab": {
          "base_uri": "https://localhost:8080/"
        },
        "id": "YpJIvr3pJDa3",
        "outputId": "f509b1e6-91d5-4328-f5bf-e66ba8f220a4"
      },
      "execution_count": 21,
      "outputs": [
        {
          "output_type": "execute_result",
          "data": {
            "text/plain": [
              "LinearRegression()"
            ]
          },
          "metadata": {},
          "execution_count": 21
        }
      ]
    },
    {
      "cell_type": "code",
      "source": [
        "y_train_pred = lrreg.predict(X_train)"
      ],
      "metadata": {
        "id": "Mt6_fvnUJDdS"
      },
      "execution_count": 22,
      "outputs": []
    },
    {
      "cell_type": "code",
      "source": [
        "y_test_pred = lrreg.predict(X_test)"
      ],
      "metadata": {
        "id": "xlUAqs6BJDfv"
      },
      "execution_count": 23,
      "outputs": []
    },
    {
      "cell_type": "code",
      "source": [
        "# importing evaluation matrices\n",
        "from sklearn.metrics import mean_absolute_error\n",
        "from sklearn.metrics import mean_squared_error\n",
        "from sklearn.metrics import r2_score"
      ],
      "metadata": {
        "id": "DgySXScUJDhz"
      },
      "execution_count": 24,
      "outputs": []
    },
    {
      "cell_type": "code",
      "source": [
        "print(f'r2_score for training data is {r2_score(y_train_pred,y_train)}')\n",
        "print(f'r2_score for training data is {r2_score(y_test_pred,y_test)}')"
      ],
      "metadata": {
        "id": "AVegVxFxJDj7",
        "colab": {
          "base_uri": "https://localhost:8080/"
        },
        "outputId": "37eafca8-957c-4404-b861-eec8a0e12362"
      },
      "execution_count": 25,
      "outputs": [
        {
          "output_type": "stream",
          "name": "stdout",
          "text": [
            "r2_score for training data is 0.6675621318983829\n",
            "r2_score for training data is -3.831468475823385e-11\n"
          ]
        }
      ]
    },
    {
      "cell_type": "markdown",
      "source": [
        "As expected high bias and high variance."
      ],
      "metadata": {
        "id": "a6L1AmAAIOVU"
      }
    },
    {
      "cell_type": "markdown",
      "source": [
        "## Model 1(Baseline): DecisionTree"
      ],
      "metadata": {
        "id": "HT8rzGV2IQEW"
      }
    },
    {
      "cell_type": "code",
      "source": [
        "\n",
        "# import the regressor\n",
        "from sklearn.tree import DecisionTreeRegressor "
      ],
      "metadata": {
        "id": "299dcw2tI7Vl"
      },
      "execution_count": 26,
      "outputs": []
    },
    {
      "cell_type": "code",
      "source": [
        "\n",
        "# assigning a variable\n",
        "dtree = DecisionTreeRegressor(random_state=68)"
      ],
      "metadata": {
        "id": "BY0RmxF6I7X5"
      },
      "execution_count": 27,
      "outputs": []
    },
    {
      "cell_type": "code",
      "source": [
        "dtree.fit(X_train,y_train)"
      ],
      "metadata": {
        "id": "9BEKKNt0IYd6",
        "colab": {
          "base_uri": "https://localhost:8080/"
        },
        "outputId": "5faec6b2-8b78-4057-9bde-81654ebaf579"
      },
      "execution_count": 28,
      "outputs": [
        {
          "output_type": "execute_result",
          "data": {
            "text/plain": [
              "DecisionTreeRegressor(random_state=68)"
            ]
          },
          "metadata": {},
          "execution_count": 28
        }
      ]
    },
    {
      "cell_type": "code",
      "source": [
        "# predicting Y_train\n",
        "y_pred_train = dtree.predict(X_train)"
      ],
      "metadata": {
        "id": "QFEX4SBEIa-V"
      },
      "execution_count": 29,
      "outputs": []
    },
    {
      "cell_type": "code",
      "source": [
        "# predicting Y_train\n",
        "y_pred_test = dtree.predict(X_test)"
      ],
      "metadata": {
        "id": "36gnWB3LIbAz"
      },
      "execution_count": 30,
      "outputs": []
    },
    {
      "cell_type": "code",
      "source": [
        "\n",
        "# printing evaluation matrices for our model\n",
        "print(f'r2_score for training data is {r2_score(y_pred_train,y_train)}')\n",
        "print(f'r2_score for testing data is {r2_score(y_pred_test,y_test)}')\n",
        "\n",
        "print(f'Adjusted r2_score for training data is {round(1 - (1-r2_score(y_train, y_pred_train)) * (len(y_train)-1)/(len(y_train)-X_train.shape[1]-1),6)}')\n",
        "print(f'Adjusted r2_score for testing data is {round(1 - (1-r2_score(y_test, y_pred_test)) * (len(y_test)-1)/(len(y_test)-X_test.shape[1]-1),6)}')\n",
        "\n",
        "print(f'Mean Absolute Error for training data is {mean_absolute_error(y_pred_train,y_train)}')\n",
        "print(f'Mean Absolute Error for testing data is {mean_absolute_error(y_pred_test,y_test)}')\n",
        "\n",
        "print(f'Mean Squared Error for training data is {mean_squared_error(y_pred_train,y_train)}')\n",
        "print(f'Mean Squared Error for testing data is {mean_squared_error(y_pred_test,y_test)}')"
      ],
      "metadata": {
        "id": "kcfsjFITIbDD",
        "colab": {
          "base_uri": "https://localhost:8080/"
        },
        "outputId": "46757509-810b-4a9d-e4f2-66ab6cfbe6da"
      },
      "execution_count": 31,
      "outputs": [
        {
          "output_type": "stream",
          "name": "stdout",
          "text": [
            "r2_score for training data is 0.9999987542867533\n",
            "r2_score for testing data is 0.9132782268502603\n",
            "Adjusted r2_score for training data is 0.999999\n",
            "Adjusted r2_score for testing data is 0.911298\n",
            "Mean Absolute Error for training data is 4.189885590080446e-06\n",
            "Mean Absolute Error for testing data is 0.20540436100243337\n",
            "Mean Squared Error for training data is 1.2457116948123794e-06\n",
            "Mean Squared Error for testing data is 0.08350558487359472\n"
          ]
        }
      ]
    },
    {
      "cell_type": "markdown",
      "source": [
        "As it is famously assumed, Decision trees are indeed prone to overfitting, with r2_score of 1 on traing data, it has completely overfitted the data, while for test data, it's accuracy is around 93%."
      ],
      "metadata": {
        "id": "g2vKaJ3BIiL5"
      }
    },
    {
      "cell_type": "markdown",
      "source": [
        "To ease this problem of overfitting we will use Random Forest to improve our model accuracy."
      ],
      "metadata": {
        "id": "y4QepwdsIlUL"
      }
    },
    {
      "cell_type": "markdown",
      "source": [
        "# **Model 2: Random Forest**"
      ],
      "metadata": {
        "id": "g0SIAOcSIsGa"
      }
    },
    {
      "cell_type": "markdown",
      "source": [
        "A single tree was not able to lift much weight, so now we will use entire forest."
      ],
      "metadata": {
        "id": "dApWSjGLItVA"
      }
    },
    {
      "cell_type": "code",
      "source": [
        "# importing random forest from ScikitLearn\n",
        "from sklearn.ensemble import RandomForestRegressor"
      ],
      "metadata": {
        "id": "TI-NTscKIbFq"
      },
      "execution_count": 32,
      "outputs": []
    },
    {
      "cell_type": "code",
      "source": [
        "\n",
        "rf = RandomForestRegressor(n_estimators=100, random_state=68)"
      ],
      "metadata": {
        "id": "0F8VI_1xIbIR"
      },
      "execution_count": 33,
      "outputs": []
    },
    {
      "cell_type": "code",
      "source": [
        "rf.fit(X_train,y_train)"
      ],
      "metadata": {
        "id": "0vgRVopjIbL2",
        "colab": {
          "base_uri": "https://localhost:8080/"
        },
        "outputId": "ad0f3557-b7a1-49bc-e307-9f5dd3b72099"
      },
      "execution_count": 34,
      "outputs": [
        {
          "output_type": "execute_result",
          "data": {
            "text/plain": [
              "RandomForestRegressor(random_state=68)"
            ]
          },
          "metadata": {},
          "execution_count": 34
        }
      ]
    },
    {
      "cell_type": "code",
      "source": [
        "\n",
        "y_pred_train_rf = rf.predict(X_train)"
      ],
      "metadata": {
        "id": "awAl5ZYoIbOV"
      },
      "execution_count": 35,
      "outputs": []
    },
    {
      "cell_type": "code",
      "source": [
        "y_pred_test_rf = rf.predict(X_test)"
      ],
      "metadata": {
        "id": "oovV0Z2SIbRG"
      },
      "execution_count": 36,
      "outputs": []
    },
    {
      "cell_type": "code",
      "source": [
        "\n",
        "# printing evaluation matrices for our model\n",
        "print(f'r2_score for training data is {r2_score(y_pred_train_rf,y_train)}')\n",
        "print(f'r2_score for testing data is {r2_score(y_pred_test_rf,y_test)}')\n",
        "\n",
        "print(f'Adjusted r2_score for training data is {round(1 - (1-r2_score(y_train, y_pred_train_rf)) * (len(y_train)-1)/(len(y_train)-X_train.shape[1]-1),6)}')\n",
        "print(f'Adjusted r2_score for testing data is {round(1 - (1-r2_score(y_test, y_pred_test_rf)) * (len(y_test)-1)/(len(y_test)-X_test.shape[1]-1),6)}')\n",
        "\n",
        "print(f'Mean Absolute Error for training data is {mean_absolute_error(y_pred_train_rf,y_train)}')\n",
        "print(f'Mean Absolute Error for testing data is {mean_absolute_error(y_pred_test_rf,y_test)}')\n",
        "\n",
        "print(f'Mean Squared Error for training data is {mean_squared_error(y_pred_train_rf,y_train)}')\n",
        "print(f'Mean Squared Error for testing data is {mean_squared_error(y_pred_test_rf,y_test)}')"
      ],
      "metadata": {
        "id": "uqIUQdrwI34f",
        "colab": {
          "base_uri": "https://localhost:8080/"
        },
        "outputId": "911e0176-672a-4997-b029-09fcfb040b2f"
      },
      "execution_count": 37,
      "outputs": [
        {
          "output_type": "stream",
          "name": "stdout",
          "text": [
            "r2_score for training data is 0.9964356349429113\n",
            "r2_score for testing data is 0.9508591528079314\n",
            "Adjusted r2_score for training data is 0.9965\n",
            "Adjusted r2_score for testing data is 0.952252\n",
            "Mean Absolute Error for training data is 0.04334227746186602\n",
            "Mean Absolute Error for testing data is 0.1538746851395498\n",
            "Mean Squared Error for training data is 0.003500113007311803\n",
            "Mean Squared Error for testing data is 0.0449506975157633\n"
          ]
        }
      ]
    },
    {
      "cell_type": "markdown",
      "source": [
        "Our r2_score for training data is almost 99% while for test data it is 95%. It seems all good, but let's try finding best parameters to see if we can further improve our score."
      ],
      "metadata": {
        "id": "AjQ4-jeEI7aK"
      }
    },
    {
      "cell_type": "markdown",
      "source": [
        "# LGBM"
      ],
      "metadata": {
        "id": "dNfBbLzZI-mb"
      }
    },
    {
      "cell_type": "code",
      "source": [
        "# importing lgbm\n",
        "from lightgbm import LGBMRegressor"
      ],
      "metadata": {
        "id": "C5jQv_BNI36-"
      },
      "execution_count": 38,
      "outputs": []
    },
    {
      "cell_type": "code",
      "source": [
        "# assigning variable\n",
        "lgbm_reg = LGBMRegressor(random_state=68)"
      ],
      "metadata": {
        "id": "QKVrwdtVI39K"
      },
      "execution_count": 39,
      "outputs": []
    },
    {
      "cell_type": "code",
      "source": [
        "\n",
        "# fitting on training data\n",
        "lgbm_reg.fit(X_train,y_train)"
      ],
      "metadata": {
        "id": "hraqhKFwI3_R",
        "colab": {
          "base_uri": "https://localhost:8080/"
        },
        "outputId": "90851d1a-28af-4c20-ca62-5baccc6fc36b"
      },
      "execution_count": 40,
      "outputs": [
        {
          "output_type": "execute_result",
          "data": {
            "text/plain": [
              "LGBMRegressor(random_state=68)"
            ]
          },
          "metadata": {},
          "execution_count": 40
        }
      ]
    },
    {
      "cell_type": "code",
      "source": [
        "# predicting on y_train\n",
        "y_train_pred_lgbm = lgbm_reg.predict(X_train)"
      ],
      "metadata": {
        "id": "JLXL_udAI4Bo"
      },
      "execution_count": 41,
      "outputs": []
    },
    {
      "cell_type": "code",
      "source": [
        "# predicting on y_test\n",
        "y_test_pred_lgbm = lgbm_reg.predict(X_test)"
      ],
      "metadata": {
        "id": "BkdwfYVdI4Ds"
      },
      "execution_count": 42,
      "outputs": []
    },
    {
      "cell_type": "code",
      "source": [
        "# printing accuracy\n",
        "# printing evaluation matrices for our model\n",
        "print(f'r2_score for training data is {r2_score(y_train_pred_lgbm,y_train)}')\n",
        "print(f'r2_score for testing data is {r2_score(y_test_pred_lgbm,y_test)}')\n",
        "\n",
        "print(f'Adjusted r2_score for training data is {round(1 - (1-r2_score(y_train, y_train_pred_lgbm)) * (len(y_train)-1)/(len(y_train)-X_train.shape[1]-1),6)}')\n",
        "print(f'Adjusted r2_score for testing data is {round(1 - (1-r2_score(y_test, y_test_pred_lgbm)) * (len(y_test)-1)/(len(y_test)-X_test.shape[1]-1),6)}')\n",
        "\n",
        "print(f'Mean Absolute Error for training data is {mean_absolute_error(y_train_pred_lgbm,y_train)}')\n",
        "print(f'Mean Absolute Error for testing data is {mean_absolute_error(y_test_pred_lgbm,y_test)}')\n",
        "\n",
        "print(f'Mean Squared Error for training data is {mean_squared_error(y_train_pred_lgbm,y_train)}')\n",
        "print(f'Mean Squared Error for testing data is {mean_squared_error(y_test_pred_lgbm,y_test)}')"
      ],
      "metadata": {
        "id": "DlMx_BzbI4F4",
        "colab": {
          "base_uri": "https://localhost:8080/"
        },
        "outputId": "34323367-2d28-4fcd-a0a9-6746eba99d4e"
      },
      "execution_count": 43,
      "outputs": [
        {
          "output_type": "stream",
          "name": "stdout",
          "text": [
            "r2_score for training data is 0.9156963683049166\n",
            "r2_score for testing data is 0.8854440634180716\n",
            "Adjusted r2_score for training data is 0.925448\n",
            "Adjusted r2_score for testing data is 0.896417\n",
            "Mean Absolute Error for training data is 0.2148672858875459\n",
            "Mean Absolute Error for testing data is 0.24558678172808118\n",
            "Mean Squared Error for training data is 0.07454970345199258\n",
            "Mean Squared Error for testing data is 0.09751441413804593\n"
          ]
        }
      ]
    },
    {
      "cell_type": "markdown",
      "source": [
        "We have made predictions using default parameters of Light Gradient Boosting model, simply to get and idea of how it might perfrm on our training and test data."
      ],
      "metadata": {
        "id": "Mhx_jRKS5p-M"
      }
    },
    {
      "cell_type": "code",
      "source": [
        "# creating a comparison df\n",
        "{'Model_name':['Decision Tree', 'Random Forest Regressor', 'LightGradient Boost Regressor'], 'Variable':['dtree', 'rf', 'lgbm_reg'], 'Train_r2':[r2_score(y_pred_train,y_train), r2_score(y_pred_train_rf,y_train), r2_score(y_train_pred_lgbm,y_train)]}"
      ],
      "metadata": {
        "id": "gyFpbmkMJKuy",
        "colab": {
          "base_uri": "https://localhost:8080/"
        },
        "outputId": "36522432-2fcd-44dd-fa22-d6077818af1b"
      },
      "execution_count": 44,
      "outputs": [
        {
          "output_type": "execute_result",
          "data": {
            "text/plain": [
              "{'Model_name': ['Decision Tree',\n",
              "  'Random Forest Regressor',\n",
              "  'LightGradient Boost Regressor'],\n",
              " 'Variable': ['dtree', 'rf', 'lgbm_reg'],\n",
              " 'Train_r2': [0.9999987542867533, 0.9964356349429113, 0.9156963683049166]}"
            ]
          },
          "metadata": {},
          "execution_count": 44
        }
      ]
    },
    {
      "cell_type": "code",
      "source": [
        "comparison_df = pd.DataFrame({'Model_name':['Decision Tree', 'Random Forest Regressor', 'LightGradient Boost Regressor'], 'Variable':['dtree', 'rf', 'lgbm_reg'], 'Train_r2':[r2_score(y_pred_train,y_train), r2_score(y_pred_train_rf,y_train), r2_score(y_train_pred_lgbm,y_train)]})"
      ],
      "metadata": {
        "id": "T2OLcG-AJKxM"
      },
      "execution_count": 45,
      "outputs": []
    },
    {
      "cell_type": "code",
      "source": [
        "comparison_df = [r2_score(y_pred_test,y_test), r2_score(y_pred_test_rf,y_test), r2_score(y_test_pred_lgbm,y_test)]\n",
        "comparison_df"
      ],
      "metadata": {
        "id": "_GYtVrzPJKzf",
        "colab": {
          "base_uri": "https://localhost:8080/"
        },
        "outputId": "89969ea6-bc8b-4556-cd56-95d60f0c6e19"
      },
      "execution_count": 46,
      "outputs": [
        {
          "output_type": "execute_result",
          "data": {
            "text/plain": [
              "[0.9132782268502603, 0.9508591528079314, 0.8854440634180716]"
            ]
          },
          "metadata": {},
          "execution_count": 46
        }
      ]
    },
    {
      "cell_type": "code",
      "source": [
        "comparison_df['Train_adjusted_r2'] = [round(1 - (1-r2_score(y_train, y_pred_train)) * (len(y_train)-1)/(len(y_train)-X_train.shape[1]-1),6),\n",
        "                                      round(1 - (1-r2_score(y_train, y_pred_train_rf)) * (len(y_train)-1)/(len(y_train)-X_train.shape[1]-1),6),\n",
        "                                      round(1 - (1-r2_score(y_train, y_train_pred_lgbm)) * (len(y_train)-1)/(len(y_train)-X_train.shape[1]-1),6)]"
      ],
      "metadata": {
        "id": "BDP-PkSqJK17",
        "colab": {
          "base_uri": "https://localhost:8080/",
          "height": 200
        },
        "outputId": "7817fcfc-8be1-476e-d496-c7c839a78a18"
      },
      "execution_count": 52,
      "outputs": [
        {
          "output_type": "error",
          "ename": "TypeError",
          "evalue": "ignored",
          "traceback": [
            "\u001b[0;31m---------------------------------------------------------------------------\u001b[0m",
            "\u001b[0;31mTypeError\u001b[0m                                 Traceback (most recent call last)",
            "\u001b[0;32m<ipython-input-52-197f6b901e23>\u001b[0m in \u001b[0;36m<module>\u001b[0;34m\u001b[0m\n\u001b[1;32m      1\u001b[0m comparison_df['Train_adjusted_r2'] = [round(1 - (1-r2_score(y_train, y_pred_train)) * (len(y_train)-1)/(len(y_train)-X_train.shape[1]-1),6),\n\u001b[1;32m      2\u001b[0m                                       \u001b[0mround\u001b[0m\u001b[0;34m(\u001b[0m\u001b[0;36m1\u001b[0m \u001b[0;34m-\u001b[0m \u001b[0;34m(\u001b[0m\u001b[0;36m1\u001b[0m\u001b[0;34m-\u001b[0m\u001b[0mr2_score\u001b[0m\u001b[0;34m(\u001b[0m\u001b[0my_train\u001b[0m\u001b[0;34m,\u001b[0m \u001b[0my_pred_train_rf\u001b[0m\u001b[0;34m)\u001b[0m\u001b[0;34m)\u001b[0m \u001b[0;34m*\u001b[0m \u001b[0;34m(\u001b[0m\u001b[0mlen\u001b[0m\u001b[0;34m(\u001b[0m\u001b[0my_train\u001b[0m\u001b[0;34m)\u001b[0m\u001b[0;34m-\u001b[0m\u001b[0;36m1\u001b[0m\u001b[0;34m)\u001b[0m\u001b[0;34m/\u001b[0m\u001b[0;34m(\u001b[0m\u001b[0mlen\u001b[0m\u001b[0;34m(\u001b[0m\u001b[0my_train\u001b[0m\u001b[0;34m)\u001b[0m\u001b[0;34m-\u001b[0m\u001b[0mX_train\u001b[0m\u001b[0;34m.\u001b[0m\u001b[0mshape\u001b[0m\u001b[0;34m[\u001b[0m\u001b[0;36m1\u001b[0m\u001b[0;34m]\u001b[0m\u001b[0;34m-\u001b[0m\u001b[0;36m1\u001b[0m\u001b[0;34m)\u001b[0m\u001b[0;34m,\u001b[0m\u001b[0;36m6\u001b[0m\u001b[0;34m)\u001b[0m\u001b[0;34m,\u001b[0m\u001b[0;34m\u001b[0m\u001b[0;34m\u001b[0m\u001b[0m\n\u001b[0;32m----> 3\u001b[0;31m                                       round(1 - (1-r2_score(y_train, y_train_pred_lgbm)) * (len(y_train)-1)/(len(y_train)-X_train.shape[1]-1),6)]\n\u001b[0m",
            "\u001b[0;31mTypeError\u001b[0m: list indices must be integers or slices, not str"
          ]
        }
      ]
    },
    {
      "cell_type": "code",
      "source": [
        "\n",
        "comparison_df['Test_adjusted_r2'] = [round(1 - (1-r2_score(y_test, y_pred_test)) * (len(y_test)-1)/(len(y_test)-X_test.shape[1]-1),6),\n",
        "                                      round(1 - (1-r2_score(y_test, y_pred_test_rf)) * (len(y_test)-1)/(len(y_test)-X_test.shape[1]-1),6),\n",
        "                                      round(1 - (1-r2_score(y_test, y_test_pred_lgbm)) * (len(y_test)-1)/(len(y_test)-X_test.shape[1]-1),6)]"
      ],
      "metadata": {
        "id": "HMEam19OJK39",
        "colab": {
          "base_uri": "https://localhost:8080/",
          "height": 200
        },
        "outputId": "91494dd8-b07d-4621-ef91-9e5863a4aef5"
      },
      "execution_count": 53,
      "outputs": [
        {
          "output_type": "error",
          "ename": "TypeError",
          "evalue": "ignored",
          "traceback": [
            "\u001b[0;31m---------------------------------------------------------------------------\u001b[0m",
            "\u001b[0;31mTypeError\u001b[0m                                 Traceback (most recent call last)",
            "\u001b[0;32m<ipython-input-53-6b05387f153d>\u001b[0m in \u001b[0;36m<module>\u001b[0;34m\u001b[0m\n\u001b[1;32m      1\u001b[0m comparison_df['Test_adjusted_r2'] = [round(1 - (1-r2_score(y_test, y_pred_test)) * (len(y_test)-1)/(len(y_test)-X_test.shape[1]-1),6),\n\u001b[1;32m      2\u001b[0m                                       \u001b[0mround\u001b[0m\u001b[0;34m(\u001b[0m\u001b[0;36m1\u001b[0m \u001b[0;34m-\u001b[0m \u001b[0;34m(\u001b[0m\u001b[0;36m1\u001b[0m\u001b[0;34m-\u001b[0m\u001b[0mr2_score\u001b[0m\u001b[0;34m(\u001b[0m\u001b[0my_test\u001b[0m\u001b[0;34m,\u001b[0m \u001b[0my_pred_test_rf\u001b[0m\u001b[0;34m)\u001b[0m\u001b[0;34m)\u001b[0m \u001b[0;34m*\u001b[0m \u001b[0;34m(\u001b[0m\u001b[0mlen\u001b[0m\u001b[0;34m(\u001b[0m\u001b[0my_test\u001b[0m\u001b[0;34m)\u001b[0m\u001b[0;34m-\u001b[0m\u001b[0;36m1\u001b[0m\u001b[0;34m)\u001b[0m\u001b[0;34m/\u001b[0m\u001b[0;34m(\u001b[0m\u001b[0mlen\u001b[0m\u001b[0;34m(\u001b[0m\u001b[0my_test\u001b[0m\u001b[0;34m)\u001b[0m\u001b[0;34m-\u001b[0m\u001b[0mX_test\u001b[0m\u001b[0;34m.\u001b[0m\u001b[0mshape\u001b[0m\u001b[0;34m[\u001b[0m\u001b[0;36m1\u001b[0m\u001b[0;34m]\u001b[0m\u001b[0;34m-\u001b[0m\u001b[0;36m1\u001b[0m\u001b[0;34m)\u001b[0m\u001b[0;34m,\u001b[0m\u001b[0;36m6\u001b[0m\u001b[0;34m)\u001b[0m\u001b[0;34m,\u001b[0m\u001b[0;34m\u001b[0m\u001b[0;34m\u001b[0m\u001b[0m\n\u001b[0;32m----> 3\u001b[0;31m                                       round(1 - (1-r2_score(y_test, y_test_pred_lgbm)) * (len(y_test)-1)/(len(y_test)-X_test.shape[1]-1),6)]\n\u001b[0m",
            "\u001b[0;31mTypeError\u001b[0m: list indices must be integers or slices, not str"
          ]
        }
      ]
    },
    {
      "cell_type": "code",
      "source": [
        "\n",
        "comparison_df['Train_MAE'] = [mean_absolute_error(y_pred_train,y_train),\n",
        "                              mean_absolute_error(y_pred_train_rf,y_train),\n",
        "                              mean_absolute_error(y_train_pred_lgbm,y_train)]"
      ],
      "metadata": {
        "id": "CtP3CmD8JK6E"
      },
      "execution_count": null,
      "outputs": []
    },
    {
      "cell_type": "code",
      "source": [
        "comparison_df['Test_MAE'] = [mean_absolute_error(y_pred_test,y_test),\n",
        "                             mean_absolute_error(y_pred_test_rf,y_test),\n",
        "                             mean_absolute_error(y_test_pred_lgbm,y_test)]"
      ],
      "metadata": {
        "id": "ZreOpoZ4JK8m"
      },
      "execution_count": null,
      "outputs": []
    },
    {
      "cell_type": "code",
      "source": [
        "comparison_df['Train_MSE'] = [mean_squared_error(y_pred_train,y_train),\n",
        "                              mean_squared_error(y_pred_train_rf,y_train),\n",
        "                              mean_squared_error(y_train_pred_lgbm,y_train)]"
      ],
      "metadata": {
        "id": "_PkKW-GP6C3x"
      },
      "execution_count": null,
      "outputs": []
    },
    {
      "cell_type": "code",
      "source": [
        "comparison_df['Test_MSE'] = [mean_squared_error(y_pred_test,y_test),\n",
        "                             mean_squared_error(y_pred_test_rf,y_test),\n",
        "                             mean_squared_error(y_test_pred_lgbm,y_test)]"
      ],
      "metadata": {
        "id": "oHxHtFc_6C6L"
      },
      "execution_count": null,
      "outputs": []
    },
    {
      "cell_type": "code",
      "source": [
        "comparison_df['Train_RMSE'] = [math.sqrt(mean_squared_error(y_pred_train,y_train)),\n",
        "                               math.sqrt(mean_squared_error(y_pred_train_rf,y_train)),\n",
        "                               math.sqrt(mean_squared_error(y_train_pred_lgbm,y_train))]"
      ],
      "metadata": {
        "colab": {
          "base_uri": "https://localhost:8080/",
          "height": 200
        },
        "id": "hnxNC-WN6C8p",
        "outputId": "edfe8d08-b2e5-42ee-d01a-663396621676"
      },
      "execution_count": 54,
      "outputs": [
        {
          "output_type": "error",
          "ename": "TypeError",
          "evalue": "ignored",
          "traceback": [
            "\u001b[0;31m---------------------------------------------------------------------------\u001b[0m",
            "\u001b[0;31mTypeError\u001b[0m                                 Traceback (most recent call last)",
            "\u001b[0;32m<ipython-input-54-6ffc2b682a5b>\u001b[0m in \u001b[0;36m<module>\u001b[0;34m\u001b[0m\n\u001b[1;32m      1\u001b[0m comparison_df['Train_RMSE'] = [math.sqrt(mean_squared_error(y_pred_train,y_train)),\n\u001b[1;32m      2\u001b[0m                                \u001b[0mmath\u001b[0m\u001b[0;34m.\u001b[0m\u001b[0msqrt\u001b[0m\u001b[0;34m(\u001b[0m\u001b[0mmean_squared_error\u001b[0m\u001b[0;34m(\u001b[0m\u001b[0my_pred_train_rf\u001b[0m\u001b[0;34m,\u001b[0m\u001b[0my_train\u001b[0m\u001b[0;34m)\u001b[0m\u001b[0;34m)\u001b[0m\u001b[0;34m,\u001b[0m\u001b[0;34m\u001b[0m\u001b[0;34m\u001b[0m\u001b[0m\n\u001b[0;32m----> 3\u001b[0;31m                                math.sqrt(mean_squared_error(y_train_pred_lgbm,y_train))]\n\u001b[0m",
            "\u001b[0;31mTypeError\u001b[0m: list indices must be integers or slices, not str"
          ]
        }
      ]
    },
    {
      "cell_type": "code",
      "source": [
        "comparison_df['Test_RMSE'] = [math.sqrt(mean_squared_error(y_pred_test,y_test)),\n",
        "                              math.sqrt(mean_squared_error(y_pred_test_rf,y_test)),\n",
        "                              math.sqrt(mean_squared_error(y_test_pred_lgbm,y_test))]"
      ],
      "metadata": {
        "id": "dEl3vRNp6C_B"
      },
      "execution_count": null,
      "outputs": []
    },
    {
      "cell_type": "code",
      "source": [
        "\n",
        "comparison_df"
      ],
      "metadata": {
        "colab": {
          "base_uri": "https://localhost:8080/"
        },
        "id": "QPpz4_m-6DIJ",
        "outputId": "ac2aaaa7-df7a-4ccb-fefc-ca4d433c6cfb"
      },
      "execution_count": 55,
      "outputs": [
        {
          "output_type": "execute_result",
          "data": {
            "text/plain": [
              "[0.9132782268502603, 0.9508591528079314, 0.8854440634180716]"
            ]
          },
          "metadata": {},
          "execution_count": 55
        }
      ]
    },
    {
      "cell_type": "code",
      "source": [
        "c_df = comparison_df.to_csv(file_path+'comparison_df.csv')"
      ],
      "metadata": {
        "id": "oTHIk1NkI4Ic",
        "colab": {
          "base_uri": "https://localhost:8080/",
          "height": 165
        },
        "outputId": "771bf229-9d30-42a7-ac4e-dfcfb1ead4e6"
      },
      "execution_count": 56,
      "outputs": [
        {
          "output_type": "error",
          "ename": "AttributeError",
          "evalue": "ignored",
          "traceback": [
            "\u001b[0;31m---------------------------------------------------------------------------\u001b[0m",
            "\u001b[0;31mAttributeError\u001b[0m                            Traceback (most recent call last)",
            "\u001b[0;32m<ipython-input-56-6ee9e5fdede9>\u001b[0m in \u001b[0;36m<module>\u001b[0;34m\u001b[0m\n\u001b[0;32m----> 1\u001b[0;31m \u001b[0mc_df\u001b[0m \u001b[0;34m=\u001b[0m \u001b[0mcomparison_df\u001b[0m\u001b[0;34m.\u001b[0m\u001b[0mto_csv\u001b[0m\u001b[0;34m(\u001b[0m\u001b[0mfile_path\u001b[0m\u001b[0;34m+\u001b[0m\u001b[0;34m'comparison_df.csv'\u001b[0m\u001b[0;34m)\u001b[0m\u001b[0;34m\u001b[0m\u001b[0;34m\u001b[0m\u001b[0m\n\u001b[0m",
            "\u001b[0;31mAttributeError\u001b[0m: 'list' object has no attribute 'to_csv'"
          ]
        }
      ]
    },
    {
      "cell_type": "code",
      "source": [],
      "metadata": {
        "id": "_6BlZXQdEZUf"
      },
      "execution_count": null,
      "outputs": []
    }
  ]
}